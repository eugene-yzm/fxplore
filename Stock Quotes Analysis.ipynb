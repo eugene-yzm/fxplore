{
 "cells": [
  {
   "cell_type": "code",
   "execution_count": 1,
   "metadata": {},
   "outputs": [],
   "source": [
    "import pandas as pd"
   ]
  },
  {
   "cell_type": "markdown",
   "metadata": {},
   "source": [
    "## Playing with Dataset and Plotting\n",
    "\n",
    "* Doing some basic data cleaning to coerce into the correct data types and inital playing with plotting"
   ]
  },
  {
   "cell_type": "code",
   "execution_count": 31,
   "metadata": {},
   "outputs": [
    {
     "data": {
      "text/html": [
       "<div>\n",
       "<style scoped>\n",
       "    .dataframe tbody tr th:only-of-type {\n",
       "        vertical-align: middle;\n",
       "    }\n",
       "\n",
       "    .dataframe tbody tr th {\n",
       "        vertical-align: top;\n",
       "    }\n",
       "\n",
       "    .dataframe thead th {\n",
       "        text-align: right;\n",
       "    }\n",
       "</style>\n",
       "<table border=\"1\" class=\"dataframe\">\n",
       "  <thead>\n",
       "    <tr style=\"text-align: right;\">\n",
       "      <th></th>\n",
       "      <th>Date</th>\n",
       "      <th>Close/Last</th>\n",
       "      <th>Volume</th>\n",
       "      <th>Open</th>\n",
       "      <th>High</th>\n",
       "      <th>Low</th>\n",
       "    </tr>\n",
       "  </thead>\n",
       "  <tbody>\n",
       "    <tr>\n",
       "      <th>0</th>\n",
       "      <td>03/20/2020</td>\n",
       "      <td>$229.24</td>\n",
       "      <td>100423300</td>\n",
       "      <td>$247.18</td>\n",
       "      <td>$251.83</td>\n",
       "      <td>$228</td>\n",
       "    </tr>\n",
       "    <tr>\n",
       "      <th>1</th>\n",
       "      <td>03/19/2020</td>\n",
       "      <td>$244.78</td>\n",
       "      <td>67964260</td>\n",
       "      <td>$247.385</td>\n",
       "      <td>$252.84</td>\n",
       "      <td>$242.61</td>\n",
       "    </tr>\n",
       "    <tr>\n",
       "      <th>2</th>\n",
       "      <td>03/18/2020</td>\n",
       "      <td>$246.67</td>\n",
       "      <td>75058410</td>\n",
       "      <td>$239.77</td>\n",
       "      <td>$250</td>\n",
       "      <td>$237.12</td>\n",
       "    </tr>\n",
       "    <tr>\n",
       "      <th>3</th>\n",
       "      <td>03/17/2020</td>\n",
       "      <td>$252.86</td>\n",
       "      <td>81013970</td>\n",
       "      <td>$247.51</td>\n",
       "      <td>$257.61</td>\n",
       "      <td>$238.4</td>\n",
       "    </tr>\n",
       "    <tr>\n",
       "      <th>4</th>\n",
       "      <td>03/16/2020</td>\n",
       "      <td>$242.21</td>\n",
       "      <td>80605870</td>\n",
       "      <td>$241.95</td>\n",
       "      <td>$259.08</td>\n",
       "      <td>$240</td>\n",
       "    </tr>\n",
       "    <tr>\n",
       "      <th>...</th>\n",
       "      <td>...</td>\n",
       "      <td>...</td>\n",
       "      <td>...</td>\n",
       "      <td>...</td>\n",
       "      <td>...</td>\n",
       "      <td>...</td>\n",
       "    </tr>\n",
       "    <tr>\n",
       "      <th>2513</th>\n",
       "      <td>03/26/2010</td>\n",
       "      <td>$32.9857</td>\n",
       "      <td>159986658</td>\n",
       "      <td>$32.7071</td>\n",
       "      <td>$33.1357</td>\n",
       "      <td>$32.65</td>\n",
       "    </tr>\n",
       "    <tr>\n",
       "      <th>2514</th>\n",
       "      <td>03/25/2010</td>\n",
       "      <td>$32.3786</td>\n",
       "      <td>135463131</td>\n",
       "      <td>$32.9886</td>\n",
       "      <td>$32.9957</td>\n",
       "      <td>$32.3214</td>\n",
       "    </tr>\n",
       "    <tr>\n",
       "      <th>2515</th>\n",
       "      <td>03/24/2010</td>\n",
       "      <td>$32.7671</td>\n",
       "      <td>149419805</td>\n",
       "      <td>$32.52</td>\n",
       "      <td>$32.8857</td>\n",
       "      <td>$32.5014</td>\n",
       "    </tr>\n",
       "    <tr>\n",
       "      <th>2516</th>\n",
       "      <td>03/23/2010</td>\n",
       "      <td>$32.6228</td>\n",
       "      <td>150384825</td>\n",
       "      <td>$32.2343</td>\n",
       "      <td>$32.6828</td>\n",
       "      <td>$32.0143</td>\n",
       "    </tr>\n",
       "    <tr>\n",
       "      <th>2517</th>\n",
       "      <td>03/22/2010</td>\n",
       "      <td>$32.1071</td>\n",
       "      <td>113828294</td>\n",
       "      <td>$31.4957</td>\n",
       "      <td>$32.2857</td>\n",
       "      <td>$31.45</td>\n",
       "    </tr>\n",
       "  </tbody>\n",
       "</table>\n",
       "<p>2518 rows × 6 columns</p>\n",
       "</div>"
      ],
      "text/plain": [
       "            Date  Close/Last     Volume       Open       High        Low\n",
       "0     03/20/2020     $229.24  100423300    $247.18    $251.83       $228\n",
       "1     03/19/2020     $244.78   67964260   $247.385    $252.84    $242.61\n",
       "2     03/18/2020     $246.67   75058410    $239.77       $250    $237.12\n",
       "3     03/17/2020     $252.86   81013970    $247.51    $257.61     $238.4\n",
       "4     03/16/2020     $242.21   80605870    $241.95    $259.08       $240\n",
       "...          ...         ...        ...        ...        ...        ...\n",
       "2513  03/26/2010    $32.9857  159986658   $32.7071   $33.1357     $32.65\n",
       "2514  03/25/2010    $32.3786  135463131   $32.9886   $32.9957   $32.3214\n",
       "2515  03/24/2010    $32.7671  149419805     $32.52   $32.8857   $32.5014\n",
       "2516  03/23/2010    $32.6228  150384825   $32.2343   $32.6828   $32.0143\n",
       "2517  03/22/2010    $32.1071  113828294   $31.4957   $32.2857     $31.45\n",
       "\n",
       "[2518 rows x 6 columns]"
      ]
     },
     "execution_count": 31,
     "metadata": {},
     "output_type": "execute_result"
    }
   ],
   "source": [
    "aapl = pd.read_csv('data/AAPL.csv')\n",
    "aapl"
   ]
  },
  {
   "cell_type": "code",
   "execution_count": 21,
   "metadata": {},
   "outputs": [
    {
     "data": {
      "text/plain": [
       "{'_is_copy': None,\n",
       " '_data': BlockManager\n",
       " Items: Index(['Date', ' Close/Last', ' Volume', ' Open', ' High', ' Low'], dtype='object')\n",
       " Axis 1: RangeIndex(start=0, stop=2518, step=1)\n",
       " IntBlock: slice(2, 3, 1), 1 x 2518, dtype: int64\n",
       " ObjectBlock: [0, 1, 3, 4, 5], 5 x 2518, dtype: object,\n",
       " '_item_cache': {},\n",
       " '_attrs': {},\n",
       " 'plot': <pandas.plotting._core.PlotAccessor object at 0x11e75ebd0>}"
      ]
     },
     "execution_count": 21,
     "metadata": {},
     "output_type": "execute_result"
    }
   ],
   "source": [
    "aapl.columns.str.strip()\n",
    "aapl.__dict__"
   ]
  },
  {
   "cell_type": "code",
   "execution_count": 38,
   "metadata": {},
   "outputs": [
    {
     "data": {
      "text/plain": [
       "0      2020-03-20\n",
       "1      2020-03-19\n",
       "2      2020-03-18\n",
       "3      2020-03-17\n",
       "4      2020-03-16\n",
       "          ...    \n",
       "2513   2010-03-26\n",
       "2514   2010-03-25\n",
       "2515   2010-03-24\n",
       "2516   2010-03-23\n",
       "2517   2010-03-22\n",
       "Name: Date, Length: 2518, dtype: datetime64[ns]"
      ]
     },
     "execution_count": 38,
     "metadata": {},
     "output_type": "execute_result"
    }
   ],
   "source": [
    "# Convert to pandas datetime representation\n",
    "aapl['Date'] = pd.to_datetime(aapl['Date'])\n",
    "aapl['Date']"
   ]
  },
  {
   "cell_type": "code",
   "execution_count": 41,
   "metadata": {},
   "outputs": [],
   "source": [
    "# Convert $xx.xx string to float\n",
    "aapl[' Close/Last'] = aapl[' Close/Last'].map(lambda v: v if type(v)== float else float(v.strip()[1:]))"
   ]
  },
  {
   "cell_type": "code",
   "execution_count": 42,
   "metadata": {},
   "outputs": [
    {
     "data": {
      "text/plain": [
       "<matplotlib.axes._subplots.AxesSubplot at 0x11dc14750>"
      ]
     },
     "execution_count": 42,
     "metadata": {},
     "output_type": "execute_result"
    },
    {
     "data": {
      "image/png": "[encoded data removed]",
      "text/plain": [
       "<Figure size 432x288 with 1 Axes>"
      ]
     },
     "metadata": {
      "needs_background": "light"
     },
     "output_type": "display_data"
    }
   ],
   "source": [
    "aapl.plot(x='Date',y=' Close/Last')"
   ]
  },
  {
   "cell_type": "code",
   "execution_count": null,
   "metadata": {},
   "outputs": [],
   "source": []
  }
 ],
 "metadata": {
  "kernelspec": {
   "display_name": ".venv",
   "language": "python",
   "name": ".venv"
  },
  "language_info": {
   "codemirror_mode": {
    "name": "ipython",
    "version": 3
   },
   "file_extension": ".py",
   "mimetype": "text/x-python",
   "name": "python",
   "nbconvert_exporter": "python",
   "pygments_lexer": "ipython3",
   "version": "3.7.7"
  }
 },
 "nbformat": 4,
 "nbformat_minor": 4
}
